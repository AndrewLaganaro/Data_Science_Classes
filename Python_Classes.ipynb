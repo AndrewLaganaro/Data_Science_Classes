{
    "cells": [
        {
            "cell_type": "markdown",
            "metadata": {},
            "source": [
                "### **Namedtuple as constants** "
            ]
        },
        {
            "cell_type": "code",
            "execution_count": null,
            "metadata": {},
            "outputs": [],
            "source": [
                "from os import environ as constant\n",
                "from dotenv import load_dotenv as env_on\n",
                "from collections import namedtuple as const \n",
                "env_on()\n",
                "\n",
                "Request = const(\"Request\", \"address, email, password, names, accounts, members_button\")\n",
                "request = Request(\n",
                "    address = constant.get(\"address\"),\n",
                "    email = constant.get(\"email\"),\n",
                "    password = constant.get(\"password\"),\n",
                "    names = constant.get(\"names\"),\n",
                "    accounts = constant.get(\"accounts\"),\n",
                "    members_button = constant.get(\"members_button\"))"
            ]
        },
        {
            "cell_type": "markdown",
            "metadata": {},
            "source": [
                "### **ConfigParser for loading configs**"
            ]
        },
        {
            "cell_type": "code",
            "execution_count": 10,
            "metadata": {},
            "outputs": [],
            "source": [
                "import configparser\n",
                "\n",
                "config = configparser.RawConfigParser()\n",
                "\n",
                "# When adding sections or items, add them in the reverse order of\n",
                "# how you want them to be displayed in the actual file.\n",
                "# In addition, please note that using RawConfigParser's and the raw\n",
                "# mode of ConfigParser's respective set functions, you can assign\n",
                "# non-string values to keys internally, but will receive an error\n",
                "# when attempting to write to a file or when you get it in non-raw\n",
                "# mode. SafeConfigParser does not allow such assignments to take place.\n",
                "config.add_section('Section1')\n",
                "config.set('Section1', 'an_int', '15')\n",
                "config.set('Section1', 'a_bool', 'true')\n",
                "config.set('Section1', 'a_float', '3.1415')\n",
                "config.set('Section1', 'a_function', 'fun')\n",
                "config.set('Section1', 'a_name', 'Python')\n",
                "\n",
                "# Writing our configuration file to 'example.cfg'\n",
                "with open('example.cfg', 'w') as configfile:\n",
                "    config.write(configfile)"
            ]
        },
        {
            "cell_type": "code",
            "execution_count": 11,
            "metadata": {},
            "outputs": [],
            "source": [
                "import configparser\n",
                "config = configparser.ConfigParser()\n",
                "config['DEFAULT'] = {'ServerAliveInterval': '45',\n",
                "                    'Compression': 'yes',\n",
                "                    'CompressionLevel': '9'}\n",
                "config['bitbucket.org'] = {}\n",
                "config['bitbucket.org']['User'] = 'hg'\n",
                "config['topsecret.server.com'] = {}\n",
                "topsecret = config['topsecret.server.com']\n",
                "topsecret['Port'] = '50022'     # mutates the parser\n",
                "topsecret['ForwardX11'] = 'no'  # same here\n",
                "config['DEFAULT']['ForwardX11'] = 'yes'\n",
                "with open('example.ini', 'w') as configfile:\n",
                "    config.write(configfile)"
            ]
        },
        {
            "cell_type": "code",
            "execution_count": 13,
            "metadata": {},
            "outputs": [
                {
                    "name": "stdout",
                    "output_type": "stream",
                    "text": [
                        "hg\n"
                    ]
                }
            ],
            "source": [
                "print(config['bitbucket.org']['User'])"
            ]
        },
        {
            "cell_type": "code",
            "execution_count": 12,
            "metadata": {},
            "outputs": [
                {
                    "name": "stdout",
                    "output_type": "stream",
                    "text": [
                        "['bitbucket.org', 'topsecret.server.com']\n",
                        "hg\n",
                        "yes\n",
                        "no\n",
                        "50022\n",
                        "\n",
                        "user\n",
                        "serveraliveinterval\n",
                        "compression\n",
                        "compressionlevel\n",
                        "forwardx11\n",
                        "\n",
                        "yes\n"
                    ]
                }
            ],
            "source": [
                "print(config.sections())\n",
                "print(config['bitbucket.org']['User'])\n",
                "print(config['DEFAULT']['Compression'])\n",
                "topsecret = config['topsecret.server.com']\n",
                "print(topsecret['ForwardX11'])\n",
                "print(topsecret['Port']+'\\n')\n",
                "\n",
                "for key in config['bitbucket.org']:  \n",
                "    print(key)\n",
                "\n",
                "print('\\n'+config['bitbucket.org']['ForwardX11'])"
            ]
        },
        {
            "cell_type": "code",
            "execution_count": null,
            "metadata": {},
            "outputs": [],
            "source": [
                "[your-config]\n",
                "path1 = \"D:\\test1\\first\"\n",
                "path2 = \"D:\\test2\\second\"\n",
                "path3 = \"D:\\test2\\third\"\n",
                "Then in your software you can use the config parser:\n",
                "\n",
                "import ConfigParser\n",
                "and then in your code:\n",
                "\n",
                " configParser = ConfigParser.RawConfigParser()   \n",
                " configFilePath = r'c:\\abc.txt'\n",
                " configParser.read(configFilePath)\n",
                "Use case:\n",
                "\n",
                "self.path = configParser.get('your-config', 'path1')"
            ]
        },
        {
            "cell_type": "markdown",
            "metadata": {},
            "source": [
                "# **Dotenv for loading environment variables**"
            ]
        },
        {
            "cell_type": "code",
            "execution_count": null,
            "metadata": {},
            "outputs": [],
            "source": [
                "import os\n",
                "import "
            ]
        },
        {
            "cell_type": "markdown",
            "metadata": {},
            "source": [
                "# **Dataclasses as constants**\n",
                "#### Using Frozen and order"
            ]
        },
        {
            "cell_type": "code",
            "execution_count": 1,
            "metadata": {},
            "outputs": [],
            "source": [
                "from dataclasses import dataclass, field, asdict, astuple "
            ]
        },
        {
            "cell_type": "code",
            "execution_count": 3,
            "metadata": {},
            "outputs": [
                {
                    "name": "stdout",
                    "output_type": "stream",
                    "text": [
                        "Request(address='www.twitter.com', email='email', password='password', names='name_elem', accounts='accounts_elem', members_button='button_elem')\n"
                    ]
                }
            ],
            "source": [
                "@dataclass(frozen=True, order=True)\n",
                "class Request:\n",
                "    address : str\n",
                "    email : str\n",
                "    password : str\n",
                "    names : str\n",
                "    accounts : str\n",
                "    members_button : str\n",
                "\n",
                "\n",
                "request = Request('www.twitter.com','email', 'password', 'name_elem', 'accounts_elem', 'button_elem')\n",
                "print(request)   "
            ]
        },
        {
            "cell_type": "code",
            "execution_count": 9,
            "metadata": {},
            "outputs": [
                {
                    "data": {
                        "text/plain": [
                            "'password'"
                        ]
                    },
                    "execution_count": 9,
                    "metadata": {},
                    "output_type": "execute_result"
                }
            ],
            "source": [
                "ext_name = request.names\n",
                "ext_password = request.password\n",
                "ext_password "
            ]
        },
        {
            "cell_type": "markdown",
            "metadata": {},
            "source": [
                "# **Json files**\n",
                "#### creating, saving and loading json"
            ]
        },
        {
            "cell_type": "code",
            "execution_count": null,
            "metadata": {},
            "outputs": [],
            "source": []
        },
        {
            "cell_type": "markdown",
            "metadata": {},
            "source": [
                "# **Context managers to save and open files**"
            ]
        },
        {
            "cell_type": "code",
            "execution_count": 1,
            "metadata": {},
            "outputs": [],
            "source": [
                "class File():\n",
                "    def __init__(self, Path, File_name, Mode):\n",
                "        #Change to the directory where this script is located\n",
                "        os.chdir(os.path.join(os.path.dirname(os.path.realpath('__file__'))))\n",
                "        #Check if the path provided contains the name of the file, if yes, remove it\n",
                "        if File_name in Path:\n",
                "            Path = Path.replace(File_name,'')\n",
                "        \n",
                "        self.filename = File_name\n",
                "        self.path = Path\n",
                "        self.mode = Mode\n",
                "        self.handle = os.path.join(Path, File_name)\n",
                "        self.file = None\n",
                "        \n",
                "    def __enter__(self):\n",
                "        self.file = open(self.handle, self.mode)\n",
                "        if self.mode == 'r':\n",
                "            print(f'{self.filename} contents:')\n",
                "        return self.file\n",
                "    \n",
                "    def __exit__(self, exc_type, exc_value, exc_traceback):\n",
                "        self.file.close()\n",
                "        if self.mode == 'w':\n",
                "            print(f\"File(Name = {self.filename}, Path = {self.path}) Saved!\")"
            ]
        },
        {
            "cell_type": "code",
            "execution_count": 7,
            "metadata": {},
            "outputs": [
                {
                    "name": "stdout",
                    "output_type": "stream",
                    "text": [
                        "File(Name = Arquivo.txt, Folder = Reports) saved!\n"
                    ]
                }
            ],
            "source": [
                "from src.utils.utils import File\n",
                "\n",
                "destiny  =  {\n",
                "            'Path' : \"A:\\\\Andrew\\\\Desenvolvimento\\\\Study\\\\General_Python_Studies\\\\reports\",\n",
                "            'File_name' : \"Arquivo.txt\",\n",
                "            'Mode' : \"w\"\n",
                "            }\n",
                "\n",
                "def Saveto(destiny,content):\n",
                "    with File(**destiny) as f:\n",
                "        f.write(content)\n",
                "\n",
                "Saveto(destiny,'hello')"
            ]
        },
        {
            "cell_type": "code",
            "execution_count": 11,
            "metadata": {},
            "outputs": [
                {
                    "name": "stdout",
                    "output_type": "stream",
                    "text": [
                        "File(Name = Arquivo.txt, Folder = Reports) contents:\n",
                        "h\n",
                        "e\n",
                        "l\n",
                        "l\n",
                        "o\n"
                    ]
                }
            ],
            "source": [
                "location  = {\n",
                "            'Path' : \"reports\",\n",
                "            'File_name' : \"Arquivo.txt\",\n",
                "            'Mode' : \"r\"\n",
                "            }\n",
                "\n",
                "def Openfrom(location, output):\n",
                "    \n",
                "    with File(**location) as f:\n",
                "        if output == 'print':\n",
                "            file = f.read().splitlines()\n",
                "            for line in file:\n",
                "                print(line)\n",
                "        elif output == 'return':\n",
                "            file = f.read()\n",
                "            return file\n",
                "\n",
                "file = Openfrom(location,'return')\n",
                "for lines in file:\n",
                "    print(lines)"
            ]
        },
        {
            "cell_type": "code",
            "execution_count": 7,
            "metadata": {},
            "outputs": [
                {
                    "name": "stdout",
                    "output_type": "stream",
                    "text": [
                        "File(Name = Arquivo.txt, Folder = Reports) saved!\n",
                        "File(Name = Arquivo.txt, Folder = Reports) contents:\n",
                        "hello potato aaaaaa\n"
                    ]
                },
                {
                    "data": {
                        "text/plain": [
                            "'hello potato aaaaaa'"
                        ]
                    },
                    "execution_count": 7,
                    "metadata": {},
                    "output_type": "execute_result"
                }
            ],
            "source": [
                "from src.utils.utils import Saveto, Openfrom\n",
                "\n",
                "Saveto(destiny,'hello potato aaaaaa')\n",
                "file = Openfrom(location,'variable')\n",
                "#Openfrom(location,'print')\n",
                "type(file)\n",
                "print(file)\n",
                "file"
            ]
        },
        {
            "cell_type": "markdown",
            "metadata": {},
            "source": [
                "## **Final class**"
            ]
        },
        {
            "cell_type": "code",
            "execution_count": 1,
            "metadata": {},
            "outputs": [],
            "source": [
                "from src.utils.utils import File"
            ]
        },
        {
            "cell_type": "code",
            "execution_count": 2,
            "metadata": {},
            "outputs": [],
            "source": [
                "file  = {\n",
                "        'File_name' : \"Arquivo.txt\",\n",
                "        'Path' : \"A:\\\\Andrew\\\\Desenvolvimento\\\\Study\\\\General_Python_Studies\\\\reports\"\n",
                "        }"
            ]
        },
        {
            "cell_type": "code",
            "execution_count": 3,
            "metadata": {},
            "outputs": [],
            "source": [
                "Notas = File()"
            ]
        },
        {
            "cell_type": "code",
            "execution_count": 4,
            "metadata": {},
            "outputs": [
                {
                    "name": "stdout",
                    "output_type": "stream",
                    "text": [
                        "File(Name: Arquivo.txt, Folder: Reports) saved!\n"
                    ]
                }
            ],
            "source": [
                "Notas.Saveto(file,'ha'+'\\n'+'he he')"
            ]
        },
        {
            "cell_type": "code",
            "execution_count": 5,
            "metadata": {},
            "outputs": [
                {
                    "name": "stdout",
                    "output_type": "stream",
                    "text": [
                        "File(Name: Arquivo.txt, Folder: Reports) loaded\n"
                    ]
                },
                {
                    "data": {
                        "text/plain": [
                            "['ha', 'he he']"
                        ]
                    },
                    "execution_count": 5,
                    "metadata": {},
                    "output_type": "execute_result"
                }
            ],
            "source": [
                "Var = Notas.Loadfrom(file, format_='text')\n",
                "Var"
            ]
        },
        {
            "cell_type": "code",
            "execution_count": 50,
            "metadata": {},
            "outputs": [
                {
                    "name": "stdout",
                    "output_type": "stream",
                    "text": [
                        "File(Name = Arquivo.txt, Folder = Reports) edited!\n"
                    ]
                }
            ],
            "source": [
                "Notas.Editfrom(file,'hi hi hi' + '\\n' + 'ho ho ho ho' + '\\n' + 'hu hu hu hu hu')"
            ]
        },
        {
            "cell_type": "markdown",
            "metadata": {},
            "source": [
                "# **Function has been called**"
            ]
        },
        {
            "cell_type": "code",
            "execution_count": 1,
            "metadata": {},
            "outputs": [
                {
                    "name": "stdout",
                    "output_type": "stream",
                    "text": [
                        "foo bar\n"
                    ]
                }
            ],
            "source": [
                "def example():\n",
                "    example.has_been_called = True\n",
                "    pass\n",
                "example.has_been_called = False\n",
                "\n",
                "\n",
                "example()\n",
                "\n",
                "#Actual Code!:\n",
                "if example.has_been_called:\n",
                "   print(\"foo bar\")"
            ]
        },
        {
            "cell_type": "markdown",
            "metadata": {},
            "source": [
                "# **Read csv**"
            ]
        },
        {
            "cell_type": "code",
            "execution_count": 8,
            "metadata": {},
            "outputs": [],
            "source": [
                "import csv\n",
                "\n",
                "with open('names.csv', 'w', newline='') as csvfile:\n",
                "    fieldnames = ['first_name', 'last_name']\n",
                "    writer = csv.DictWriter(csvfile, fieldnames=fieldnames)\n",
                "\n",
                "    writer.writeheader()\n",
                "    writer.writerow({'first_name': 'Baked', 'last_name': 'Beans'})\n",
                "    writer.writerow({'first_name': 'Lovely', 'last_name': 'Spam'})\n",
                "    writer.writerow({'first_name': 'Wonderful', 'last_name': 'Spam'})\n",
                "    writer.writerow({'first_name': 'potato', 'last_name': 'banana'})"
            ]
        },
        {
            "cell_type": "code",
            "execution_count": 20,
            "metadata": {},
            "outputs": [
                {
                    "name": "stdout",
                    "output_type": "stream",
                    "text": [
                        "{'first_name': 'Baked', 'last_name': 'Beans'}\n",
                        "{'first_name': 'Lovely', 'last_name': 'Spam'}\n",
                        "{'first_name': 'Wonderful', 'last_name': 'Spam'}\n",
                        "{'first_name': 'potato', 'last_name': 'banana'}\n"
                    ]
                }
            ],
            "source": [
                "with open('names.csv', newline='') as csvfile:\n",
                "    reader = csv.DictReader(csvfile)\n",
                "    dic = {}\n",
                "    for item in reader:\n",
                "        print(item)"
            ]
        },
        {
            "cell_type": "code",
            "execution_count": 4,
            "metadata": {},
            "outputs": [
                {
                    "name": "stdout",
                    "output_type": "stream",
                    "text": [
                        "{'first_name': ['Baked', 'Lovely', 'Wonderful', 'potato', 'berry'],\n",
                        " 'last_name': ['Beans', 'Spam', 'Spam', 'banana', 'abacato'],\n",
                        " 'street': ['smith', 'loren', 'marry', 'james', 'grape']}\n"
                    ]
                }
            ],
            "source": [
                "import csv\n",
                "from pprint import pprint\n",
                "lista1 = []\n",
                "lista2 = []\n",
                "lista3 = []\n",
                "# add more if needed accordint to the number of rows in the csv file \n",
                "def ToDictLine(file, size, *listas):  \n",
                "    \"\"\"\n",
                "    Given a file, create a dictionary with the first line as the key and the rest as the values\n",
                "    \n",
                "    :param file: the name of the file to be read\n",
                "    :param size: the number of lines to read\n",
                "    :return: A dictionary with the first line of the file as the key and the rest of the lines as the\n",
                "    value.\n",
                "    \"\"\"\n",
                "    table = {}\n",
                "    with open('names.csv', mode='r') as infile:\n",
                "        reader = csv.reader(infile)\n",
                "        \n",
                "        for idx, line in enumerate(reader):\n",
                "            lista1.append(line[0])\n",
                "            lista2.append(line[1])\n",
                "            lista3.append(line[2])\n",
                "            table[lista1[0]] = lista1[1:]\n",
                "            table[lista2[0]] = lista2[1:]\n",
                "            table[lista3[0]] = lista3[1:]\n",
                "            # add more if needed\n",
                "    return table\n",
                "\n",
                "table = ToDictLine('names.csv', 3, lista1, lista2, lista3)\n",
                "pprint(table)"
            ]
        },
        {
            "cell_type": "code",
            "execution_count": 1,
            "metadata": {},
            "outputs": [
                {
                    "name": "stdout",
                    "output_type": "stream",
                    "text": [
                        "{'first_name': ['Baked', 'Lovely', 'Wonderful', 'potato', 'berry'],\n",
                        " 'last_name': ['Beans', 'Spam', 'Spam', 'banana', 'abacato'],\n",
                        " 'street': ['smith', 'loren', 'marry', 'james', 'grape']}\n"
                    ]
                }
            ],
            "source": [
                "import csv\n",
                "from pprint import pprint\n",
                "\n",
                "def ToDictLine(file, size):\n",
                "    \"\"\"\n",
                "    It takes a file and a size, and returns a dictionary with the first line of the file as the keys and\n",
                "    the other lines as the values\n",
                "    \n",
                "    :param file: the name of the file to be read\n",
                "    :param size: the number of lines in the file\n",
                "    :return: A dictionary with the first column as the key and the rest as the value.\n",
                "    \"\"\"\n",
                "    table = {}\n",
                "    with open('names.csv', mode='r') as infile:\n",
                "        reader = csv.reader(infile)\n",
                "        \n",
                "        for info in range(size):\n",
                "            exec(f'lista{info+1} = []')\n",
                "            \n",
                "        for idx, info in enumerate(reader):  \n",
                "            \n",
                "            for idy in range(len(info)):\n",
                "                exec(f'lista{idy+1}.append({info}[{idy}])')\n",
                "            for idz in range(len(info)):\n",
                "                exec(f'table[lista{idz+1}[0]] = lista{idz+1}[1:]')\n",
                "    return table\n",
                "\n",
                "table = ToDictLine('names.csv', 3)\n",
                "pprint(table)\n"
            ]
        },
        {
            "cell_type": "code",
            "execution_count": 2,
            "metadata": {},
            "outputs": [
                {
                    "name": "stdout",
                    "output_type": "stream",
                    "text": [
                        "{'first_name': ['Baked', 'Lovely', 'Wonderful', 'potato', 'berry'],\n",
                        " 'last_name': ['Beans', 'Spam', 'Spam', 'banana', 'abacato'],\n",
                        " 'street': ['smith', 'loren', 'marry', 'james', 'grape']}\n"
                    ]
                }
            ],
            "source": [
                "import csv\n",
                "from pprint import pprint\n",
                "lista1 = []\n",
                "lista2 = []\n",
                "lista3 = []\n",
                "# add more if needed\n",
                "def ToDictColumn(file, size, *lists):\n",
                "    table = {}\n",
                "    with open(file, mode='r') as infile:\n",
                "        reader = csv.reader(infile)\n",
                "        \n",
                "        for idx, line in enumerate(reader):\n",
                "            #exec(f'lista{idx+1}.extend({line})') \n",
                "            if idx == 0:\n",
                "                lista1.extend(line) \n",
                "                table[lista1[0]] = lista1[1:]\n",
                "            elif idx == 1:\n",
                "                lista2.extend(line)\n",
                "                table[lista2[0]] = lista2[1:]\n",
                "            elif idx == 2:\n",
                "                lista3.extend(line)\n",
                "                table[lista3[0]] = lista3[1:]\n",
                "        # add more if needed\n",
                "    return table\n",
                "\n",
                "table = ToDictColumn('names1.csv', 3, lista1, lista2, lista3)\n",
                "pprint(table)"
            ]
        },
        {
            "cell_type": "code",
            "execution_count": 2,
            "metadata": {},
            "outputs": [
                {
                    "name": "stdout",
                    "output_type": "stream",
                    "text": [
                        "{'first_name': ['Baked', 'Lovely', 'Wonderful', 'potato', 'berry'],\n",
                        " 'last_name': ['Beans', 'Spam', 'Spam', 'banana', 'abacato'],\n",
                        " 'street': ['smith', 'loren', 'marry', 'james', 'grape']}\n"
                    ]
                }
            ],
            "source": [
                "import csv\n",
                "from pprint import pprint\n",
                "\n",
                "def ToDictColumn(file, size):\n",
                "    table = {}\n",
                "    with open(file, mode='r') as infile:\n",
                "        reader = csv.reader(infile)\n",
                "        \n",
                "        for info in range(size):\n",
                "            exec(f'lista{info+1} = []')\n",
                "        \n",
                "        for idx, line in enumerate(reader):\n",
                "            exec(f'lista{idx+1}.extend({line})') \n",
                "            exec(f'table[lista{idx+1}[0]] = lista{idx+1}[1:]')\n",
                "        \n",
                "    return table\n",
                "\n",
                "table = ToDictColumn('names1.csv', 3)\n",
                "pprint(table)"
            ]
        },
        {
            "cell_type": "code",
            "execution_count": null,
            "metadata": {},
            "outputs": [],
            "source": [
                "#make a function that takes a csv file and a size and returns a dictionary with the lines of the csv file as keys and the lines as values\n",
                "#and that treats the case when the csv is column oriented or line oriented\n",
                "\n",
                "def ToDict(file, size, orientation):\n",
                "    table = {}\n",
                "    \n",
                "    if orientation == 'line':\n",
                "        \n",
                "        \n",
                "        with open('names.csv', mode='r') as infile:\n",
                "            reader = csv.reader(infile)\n",
                "            \n",
                "            for line in reader:\n",
                "                x = len(line)\n",
                "                break\n",
                "            #with open dnv\n",
                "            for info in range(size):\n",
                "                exec(f'lista{info+1} = []')\n",
                "                \n",
                "            for idx, info in enumerate(reader):  \n",
                "                \n",
                "                for idy in range(len(info)):\n",
                "                    exec(f'lista{idy+1}.append({info}[{idy}])')\n",
                "                for idz in range(len(info)):\n",
                "                    exec(f'table[lista{idz+1}[0]] = lista{idz+1}[1:]')\n",
                "        return table\n",
                "    \n",
                "    elif orientation == 'column':    \n",
                "    \n",
                "        with open(file, mode='r') as infile:\n",
                "            reader = csv.reader(infile)\n",
                "            \n",
                "            for info in range(size):\n",
                "                exec(f'lista{info+1} = []')\n",
                "            \n",
                "            for idx, line in enumerate(reader):\n",
                "                exec(f'lista{idx+1}.extend({line})') \n",
                "                exec(f'table[lista{idx+1}[0]] = lista{idx+1}[1:]')\n",
                "            \n",
                "        return table\n",
                "    \n",
                "    else:\n",
                "        print('Error: orientation must be line or column')\n"
            ]
        },
        {
            "cell_type": "code",
            "execution_count": 21,
            "metadata": {},
            "outputs": [
                {
                    "name": "stdout",
                    "output_type": "stream",
                    "text": [
                        "3\n"
                    ]
                }
            ],
            "source": [
                "import csv\n",
                "counter = 0\n",
                "x=0\n",
                "with open('names.csv', mode='r') as infile:\n",
                "    reader = csv.reader(infile)\n",
                "    #make a counter that counts the number of elements separated by commas in the first line of the csv file\n",
                "    for line in reader:\n",
                "        x= len(line)\n",
                "        break\n",
                "    print(x)"
            ]
        },
        {
            "cell_type": "code",
            "execution_count": null,
            "metadata": {},
            "outputs": [],
            "source": [
                "class File():\n",
                "    \n",
                "    def __init__(self):\n",
                "        \n",
                "        self.request = None\n",
                "        self.content = None\n",
                "        self.file = None\n",
                "        self.specs  =   {\n",
                "                        'Mode' : None,\n",
                "                        'Notices' : None,\n",
                "                        'Output' : None\n",
                "                        }\n",
                "        \n",
                "    def Saveto(self, request, content):\n",
                "        self.request = request\n",
                "        self.content = content\n",
                "        self.specs['Mode'] = 'w'\n",
                "        self.specs['Notices'] = False \n",
                "        self.specs['Output'] = False\n",
                "        \n",
                "        with File.Handler(**self.specs, **self.request) as self.file:\n",
                "            self.file.write(content)\n",
                "            \n",
                "    def Editfrom(self, request, content):\n",
                "        self.specs['Mode'] = 'a'\n",
                "        self.specs['Notices'] = True \n",
                "        self.specs['Output'] = False\n",
                "        self.request = request\n",
                "        self.content = content\n",
                "        \n",
                "        with File.Handler(**self.specs, **self.request) as self.file:\n",
                "            self.file.write(\"\\n\" + content)\n",
                "        #csvpandas.to_csv(self.file, index=False)\n",
                "        #\n",
                "    def Openfrom(self, request):\n",
                "        self.request = request        \n",
                "        self.specs['Mode'] = 'r'        \n",
                "        self.specs['Output'] = 'variable'\n",
                "        self.specs['Notices'] = False\n",
                "        \n",
                "        with File.Handler(**self.specs, **self.request) as file:\n",
                "            self.file = file.readlines()\n",
                "            \n",
                "            for index, line in enumerate(self.file):\n",
                "                self.file[index] = line.replace('\\n','')\n",
                "            return self.file\n",
                "            \n",
                "    def Printfrom(self, request):\n",
                "        self.request = request\n",
                "        self.specs['Mode'] = 'r'\n",
                "        self.specs['Output'] == 'print'\n",
                "        self.specs['Notices'] = True\n",
                "        \n",
                "        with File.Handler(**self.specs, **self.request) as file:\n",
                "            self.file = file.read().splitlines()\n",
                "            \n",
                "            if len(self.file) > 30:\n",
                "                print(f'File is bigger than 30 lines, containing a total of {len(self.file)} lines.')\n",
                "                limit = input('Print everything?[y/n] ').lower()\n",
                "            limit = 'n'\n",
                "            \n",
                "            for number, line in enumerate(self.file):\n",
                "                if limit == 'n' and number > 30:\n",
                "                    break\n",
                "                print(line)\n",
                "    \n",
                "    class Handler():\n",
                "        def __init__(self, Mode, Notices, Output, File_name, Path):\n",
                "            #Change to the directory where this script is located\n",
                "            os.chdir(os.path.join(os.path.dirname(os.path.realpath('__file__'))))\n",
                "            \n",
                "            #Check if the path provided contains the name of the file, if yes, remove it\n",
                "            if File_name in Path:\n",
                "                Path = Path.replace(File_name,'')\n",
                "                \n",
                "            self.mode = Mode\n",
                "            self.filename = File_name\n",
                "            self.folder = os.path.basename(Path).title()\n",
                "            self.path = os.path.join(Path, File_name)\n",
                "            self.file = None\n",
                "            self.container = range(len(f\"File(Name = {self.filename}, Folder = {self.folder}) contents:\"))\n",
                "            self.notices = Notices\n",
                "            self.output = Output\n",
                "            \n",
                "        def fileshow(self, Var = None):\n",
                "            \n",
                "            if self.notices == False:\n",
                "                return\n",
                "            \n",
                "            else:\n",
                "                self.dashes = ''\n",
                "                for dash in self.container:\n",
                "                    self.dashes+='-'\n",
                "                print(self.dashes)\n",
                "        \n",
                "        def __enter__(self):\n",
                "            \n",
                "            self.file = open(self.path, self.mode)\n",
                "            \n",
                "            if self.output == 'variable' and self.mode == 'r':\n",
                "                \n",
                "                print(f\"File(Name = {self.filename}, Folder = {self.folder}) is now a variable!\")\n",
                "            elif self.mode == 'r':\n",
                "                \n",
                "                print(f\"File(Name = {self.filename}, Folder = {self.folder}) contents:\")\n",
                "                File.Handler.fileshow(self)\n",
                "            return self.file\n",
                "        \n",
                "        def __exit__(self, exc_type, exc_value, exc_traceback):\n",
                "            self.dashes = ''\n",
                "            self.file.close()\n",
                "            \n",
                "            if self.mode == 'w':\n",
                "                \n",
                "                print(f\"File(Name = {self.filename}, Folder = {self.folder}) saved!\")\n",
                "            elif self.mode == 'a':\n",
                "                \n",
                "                print(f\"File(Name = {self.filename}, Folder = {self.folder}) edited!\")\n",
                "            else:\n",
                "                File.Handler.fileshow(self)"
            ]
        },
        {
            "cell_type": "code",
            "execution_count": 1,
            "metadata": {},
            "outputs": [],
            "source": [
                "import pandas as pd\n",
                "config = {\n",
                "    \"Folders\": {\n",
                "        \"DB Mongo\": \"..\\\\Databases\\\\Mongo\",\n",
                "        \"DB Mysql\": \"..\\\\Databases\\\\MySQL\",\n",
                "        \"DB Sqlite\": \"..\\\\Databases\\\\SQLite\",\n",
                "        \"Data Ongoing\": \"..\\\\Data\\\\2) Ongoing\",\n",
                "        \"Data Raw\": \"..\\\\Data\\\\1) Raw\",\n",
                "        \"Dataset\": \"..\\\\Data\\\\3) Dataset\",\n",
                "        \"Docs\": \"..\\\\Docs\",\n",
                "        \"Env\": \"..\\\\Env\",\n",
                "        \"Models\": \"..\\\\Models\",\n",
                "        \"Models Dev\": \"..\\\\Models\\\\Developing\",\n",
                "        \"Models Prod\": \"..\\\\Models\\\\Production\",\n",
                "        \"Reports\": \"..\\\\Reports\",\n",
                "        \"Reports Finals\": \"..\\\\Reports\\\\Finals\",\n",
                "        \"Reports Prelim\": \"..\\\\Reports\\\\Preliminary\",\n",
                "        \"Requirements\": \"..\\\\Requirements\"\n",
                "    },\n",
                "    \"Deployment\": {\n",
                "        \"Deployment\": \"..\\\\Deployment\",\n",
                "        \"Deployment Dev\": \"..\\\\Deployment\\\\Developing\",\n",
                "        \"Deployment Prod\": \"..\\\\Deployment\\\\Production\",\n",
                "        \"Deployment Test\": \"..\\\\Deployment\\\\Testing\"\n",
                "    }\n",
                "}"
            ]
        },
        {
            "cell_type": "code",
            "execution_count": 1,
            "metadata": {},
            "outputs": [],
            "source": [
                "from tools import File\n",
                "test = File()\n"
            ]
        },
        {
            "cell_type": "code",
            "execution_count": null,
            "metadata": {},
            "outputs": [],
            "source": [
                "newkey = {'Requirements': 'test2'}\n",
                "\n",
                "for oldkey in config['Folders']:\n",
                "    if list(newkey)[0] == oldkey:\n",
                "        config['Folders'][oldkey] = newkey[oldkey]\n",
                "        \n",
                "print(config['Folders']['Requirements'])\n",
                "from pprint import pprint\n",
                "pprint(config) \n"
            ]
        },
        {
            "cell_type": "code",
            "execution_count": 2,
            "metadata": {},
            "outputs": [
                {
                    "name": "stdout",
                    "output_type": "stream",
                    "text": [
                        "{'Deployment': {'Deployment': '..\\\\Deployment',\n",
                        "                'Deployment Dev': '..\\\\Deployment\\\\Developing',\n",
                        "                'Deployment Prod': '..\\\\Deployment\\\\Production',\n",
                        "                'Deployment Test': '..\\\\Deployment\\\\Testing'},\n",
                        " 'Folders': {'DB Mongo': '..\\\\Databases\\\\Mongo',\n",
                        "             'DB Mysql': '..\\\\Databases\\\\MySQL',\n",
                        "             'DB Sqlite': '..\\\\Databases\\\\SQLite',\n",
                        "             'Data Ongoing': '..\\\\Data\\\\2) Ongoing',\n",
                        "             'Data Raw': '..\\\\Data\\\\1) Raw',\n",
                        "             'Dataset': '..\\\\Data\\\\3) Dataset',\n",
                        "             'Docs': '..\\\\Docs',\n",
                        "             'Env': '..\\\\Env',\n",
                        "             'Models': '..\\\\Models',\n",
                        "             'Models Dev': '..\\\\Models\\\\Developing',\n",
                        "             'Models Prod': '..\\\\Models\\\\Production',\n",
                        "             'Reports': '..\\\\Reports',\n",
                        "             'Reports Finals': '..\\\\Reports\\\\Finals',\n",
                        "             'Reports Prelim': '..\\\\Reports\\\\Preliminary',\n",
                        "             'test2': '..\\\\Requirements'}}\n"
                    ]
                }
            ],
            "source": [
                "newkey = {'Requirements': 'test2'}\n",
                "list(newkey)\n",
                "for oldkey in config['Folders']:\n",
                "    if list(newkey)[0] == oldkey:\n",
                "        \n",
                "        config['Folders'][list(newkey.values())[0]] = config['Folders'][oldkey]\n",
                "        del config['Folders'][oldkey]\n",
                "        break\n",
                "    \n",
                "for oldkey in config['Folders']:\n",
                "    if list(newvalue)[0] == oldkey:\n",
                "        config['Folders'][oldkey] = newvalue[oldkey]\n",
                "    \n",
                "from pprint import pprint\n",
                "pprint(config)"
            ]
        },
        {
            "cell_type": "code",
            "execution_count": 4,
            "metadata": {},
            "outputs": [
                {
                    "name": "stdout",
                    "output_type": "stream",
                    "text": [
                        "{'Deployment': {'Deployment': '..\\\\Deployment',\n",
                        "                'Deployment Dev': '..\\\\Deployment\\\\Developing',\n",
                        "                'Deployment Prod': '..\\\\Deployment\\\\Production',\n",
                        "                'Deployment Test': '..\\\\Deployment\\\\Testing'},\n",
                        " 'Folders': {'DB Mongo': '..\\\\Databases\\\\Mongo',\n",
                        "             'DB Mysql': '..\\\\Databases\\\\MySQL',\n",
                        "             'DB Sqlite': '..\\\\Databases\\\\SQLite',\n",
                        "             'Data Ongoing': '..\\\\Data\\\\2) Ongoing',\n",
                        "             'Data Raw': '..\\\\Data\\\\1) Raw',\n",
                        "             'Dataset': '..\\\\Data\\\\3) Dataset',\n",
                        "             'Docs': '..\\\\Docs',\n",
                        "             'Env': '..\\\\Env',\n",
                        "             'Models': '..\\\\Models',\n",
                        "             'Models Dev': '..\\\\Models\\\\Developing',\n",
                        "             'Models Prod': '..\\\\Models\\\\Production',\n",
                        "             'Reports': '..\\\\Reports',\n",
                        "             'Reports Finals': '..\\\\Reports\\\\Finals',\n",
                        "             'Reports Prelim': '..\\\\Reports\\\\Preliminary',\n",
                        "             'Requirements': 'test2'}}\n"
                    ]
                }
            ],
            "source": [
                "newvalue = {'Requirements': 'test2'}\n",
                "for oldkey in config['Folders']:\n",
                "    if list(newvalue)[0] == oldkey:\n",
                "        config['Folders'][oldkey] = newvalue[oldkey]\n",
                "from pprint import pprint\n",
                "pprint(config)"
            ]
        },
        {
            "cell_type": "code",
            "execution_count": 6,
            "metadata": {},
            "outputs": [
                {
                    "name": "stdout",
                    "output_type": "stream",
                    "text": [
                        "{'Deployment': {'Deployment': '..\\\\Deployment',\n",
                        "                'Deployment Dev': '..\\\\Deployment\\\\Developing',\n",
                        "                'Deployment Prod': '..\\\\Deployment\\\\Production',\n",
                        "                'Deployment Test': '..\\\\Deployment\\\\Testing'},\n",
                        " 'Folders': {'DB Mongo': '..\\\\Databases\\\\Mongo',\n",
                        "             'DB Mysql': '..\\\\Databases\\\\MySQL',\n",
                        "             'DB Sqlite': '..\\\\Databases\\\\SQLite',\n",
                        "             'Data Ongoing': '..\\\\Data\\\\2) Ongoing',\n",
                        "             'Data Raw': '..\\\\Data\\\\1) Raw',\n",
                        "             'Dataset': '..\\\\Data\\\\3) Dataset',\n",
                        "             'Docs': '..\\\\Docs',\n",
                        "             'Env': '..\\\\Env',\n",
                        "             'Models': '..\\\\Models',\n",
                        "             'Models Dev': '..\\\\Models\\\\Developing',\n",
                        "             'Models Prod': '..\\\\Models\\\\Production',\n",
                        "             'Reports': '..\\\\Reports',\n",
                        "             'Reports Finals': '..\\\\Reports\\\\Finals',\n",
                        "             'Reports Prelim': '..\\\\Reports\\\\Preliminary',\n",
                        "             'test2': '..\\\\Requirements'}}\n"
                    ]
                }
            ],
            "source": [
                "from pprint import pprint\n",
                "pprint(config)"
            ]
        },
        {
            "cell_type": "code",
            "execution_count": 4,
            "metadata": {},
            "outputs": [
                {
                    "data": {
                        "text/plain": [
                            "['test2']"
                        ]
                    },
                    "execution_count": 4,
                    "metadata": {},
                    "output_type": "execute_result"
                }
            ],
            "source": [
                "newkey = {'Requirements': 'test2'}\n",
                "list(newkey.values())"
            ]
        },
        {
            "cell_type": "code",
            "execution_count": 1,
            "metadata": {},
            "outputs": [
                {
                    "name": "stdout",
                    "output_type": "stream",
                    "text": [
                        "File(Name: Config.json, Folder: ) loaded\n"
                    ]
                }
            ],
            "source": [
                "import json\n",
                "from pprint import pprint\n",
                "from tools import File\n",
                "\n",
                "load = File()\n",
                "toopen = {'File_name': 'Config.json', 'Path': '..\\\\..\\\\Env\\\\Config.json'} \n",
                "x= load.Loadfrom(toopen, format_= 'dictionary')\n",
                "newfolder = {'Package': '..\\\\Packages\\\\Deploy'}\n",
                "#load.AddDirectory(newfolder) "
            ]
        },
        {
            "cell_type": "code",
            "execution_count": 3,
            "metadata": {},
            "outputs": [
                {
                    "name": "stdout",
                    "output_type": "stream",
                    "text": [
                        "DB Mongo is different from Package, add NOT done\n",
                        "DB Mysql is different from Package, add NOT done\n",
                        "DB Sqlite is different from Package, add NOT done\n",
                        "Data Ongoing is different from Package, add NOT done\n",
                        "Data Raw is different from Package, add NOT done\n",
                        "Docs is different from Package, add NOT done\n",
                        "Env is different from Package, add NOT done\n",
                        "Models is different from Package, add NOT done\n",
                        "Models Dev is different from Package, add NOT done\n",
                        "Models Prod is different from Package, add NOT done\n",
                        "Reports is different from Package, add NOT done\n",
                        "Reports Finals is different from Package, add NOT done\n",
                        "Reports Prelim is different from Package, add NOT done\n",
                        "Requirements is different from Package, add NOT done\n",
                        "Package is an outsider in the file, add DONE\n",
                        "File(Name: Config.json, Folder: ) saved!\n"
                    ]
                }
            ],
            "source": [
                "newfolder = {'Package': '..\\\\Packages\\\\Deploy'}\n",
                "load.AddDirectory(newfolder)"
            ]
        },
        {
            "cell_type": "code",
            "execution_count": 2,
            "metadata": {},
            "outputs": [
                {
                    "name": "stdout",
                    "output_type": "stream",
                    "text": [
                        "File(Name: Config.json, Folder: ) saved!\n"
                    ]
                }
            ],
            "source": [
                "load.EditDirectory({'new package': 'ultra New Package'}, kind = 'name')\n",
                "#load.Help()"
            ]
        },
        {
            "cell_type": "code",
            "execution_count": 7,
            "metadata": {},
            "outputs": [
                {
                    "ename": "IndexError",
                    "evalue": "list index out of range",
                    "output_type": "error",
                    "traceback": [
                        "\u001b[1;31m---------------------------------------------------------------------------\u001b[0m",
                        "\u001b[1;31mIndexError\u001b[0m                                Traceback (most recent call last)",
                        "\u001b[1;32m<ipython-input-7-d6495f600430>\u001b[0m in \u001b[0;36m<module>\u001b[1;34m\u001b[0m\n\u001b[0;32m      2\u001b[0m \u001b[1;33m\u001b[0m\u001b[0m\n\u001b[0;32m      3\u001b[0m \u001b[1;33m\u001b[0m\u001b[0m\n\u001b[1;32m----> 4\u001b[1;33m \u001b[0mnewkey\u001b[0m \u001b[1;33m=\u001b[0m \u001b[0mlist\u001b[0m\u001b[1;33m(\u001b[0m\u001b[0meditfolder\u001b[0m\u001b[1;33m.\u001b[0m\u001b[0mitems\u001b[0m\u001b[1;33m(\u001b[0m\u001b[1;33m)\u001b[0m\u001b[1;33m)\u001b[0m\u001b[1;33m[\u001b[0m\u001b[1;36m1\u001b[0m\u001b[1;33m]\u001b[0m\u001b[1;33m[\u001b[0m\u001b[1;36m1\u001b[0m\u001b[1;33m]\u001b[0m\u001b[1;33m.\u001b[0m\u001b[0mlower\u001b[0m\u001b[1;33m(\u001b[0m\u001b[1;33m)\u001b[0m\u001b[1;33m.\u001b[0m\u001b[0mstrip\u001b[0m\u001b[1;33m(\u001b[0m\u001b[1;33m)\u001b[0m\u001b[1;33m\u001b[0m\u001b[1;33m\u001b[0m\u001b[0m\n\u001b[0m\u001b[0;32m      5\u001b[0m \u001b[0mnewvalue\u001b[0m \u001b[1;33m=\u001b[0m \u001b[0mlist\u001b[0m\u001b[1;33m(\u001b[0m\u001b[0meditfolder\u001b[0m\u001b[1;33m.\u001b[0m\u001b[0mvalues\u001b[0m\u001b[1;33m(\u001b[0m\u001b[1;33m)\u001b[0m\u001b[1;33m)\u001b[0m\u001b[1;33m[\u001b[0m\u001b[1;36m0\u001b[0m\u001b[1;33m]\u001b[0m\u001b[1;33m.\u001b[0m\u001b[0mlower\u001b[0m\u001b[1;33m(\u001b[0m\u001b[1;33m)\u001b[0m\u001b[1;33m.\u001b[0m\u001b[0mstrip\u001b[0m\u001b[1;33m(\u001b[0m\u001b[1;33m)\u001b[0m\u001b[1;33m\u001b[0m\u001b[1;33m\u001b[0m\u001b[0m\n\u001b[0;32m      6\u001b[0m \u001b[0mprint\u001b[0m\u001b[1;33m(\u001b[0m\u001b[0mnewkey\u001b[0m\u001b[1;33m,\u001b[0m \u001b[0mnewvalue\u001b[0m\u001b[1;33m)\u001b[0m\u001b[1;33m\u001b[0m\u001b[1;33m\u001b[0m\u001b[0m\n",
                        "\u001b[1;31mIndexError\u001b[0m: list index out of range"
                    ]
                }
            ],
            "source": [
                "editfolder = {'Anata': 'Batata'}\n",
                "\n",
                "\n",
                "newkey = list(editfolder.items())[0].lower().strip()\n",
                "newvalue = list(editfolder.values())[0].lower().strip()\n",
                "print(newkey, newvalue)"
            ]
        },
        {
            "cell_type": "code",
            "execution_count": 18,
            "metadata": {},
            "outputs": [
                {
                    "name": "stdout",
                    "output_type": "stream",
                    "text": [
                        "anata batata\n",
                        "{'Deployment': {'Deployment': '..\\\\Deployment',\n",
                        "                'Deployment Dev': '..\\\\Deployment\\\\Developing',\n",
                        "                'Deployment Prod': '..\\\\Deployment\\\\Production',\n",
                        "                'Deployment Test': '..\\\\Deployment\\\\Testing'},\n",
                        " 'Folders': {'DB Mongo': '..\\\\Databases\\\\Mongo',\n",
                        "             'DB Mysql': '..\\\\Databases\\\\MySQL',\n",
                        "             'DB Sqlite': '..\\\\Databases\\\\SQLite',\n",
                        "             'Data Ongoing': '..\\\\Data\\\\2) Ongoing',\n",
                        "             'Data Raw': '..\\\\Data\\\\1) Raw',\n",
                        "             'Dataset': '..\\\\Data\\\\3) Dataset',\n",
                        "             'Docs': '..\\\\Docs',\n",
                        "             'Env': '..\\\\Env',\n",
                        "             'Models': '..\\\\Models',\n",
                        "             'Models Dev': '..\\\\Models\\\\Developing',\n",
                        "             'Models Prod': '..\\\\Models\\\\Production',\n",
                        "             'Reports': '..\\\\Reports',\n",
                        "             'Reports Finals': '..\\\\Reports\\\\Finals',\n",
                        "             'Reports Prelim': '..\\\\Reports\\\\Preliminary',\n",
                        "             'Requirements': '..\\\\Requirements',\n",
                        "             'batata': 'ffff'}}\n"
                    ]
                }
            ],
            "source": [
                "editfolder = {'Anata': 'Batata'}\n",
                "kind = 'name'\n",
                "\n",
                "newkey = list(editfolder.keys())[0].lower().strip()\n",
                "newvalue = list(editfolder.values())[0].lower().strip()\n",
                "print(newkey, newvalue)\n",
                "\n",
                "for currentkey in Config['Folders']:\n",
                "    if newkey == currentkey.lower().strip():\n",
                "        \n",
                "        Config['Folders'][newvalue] = Config['Folders'][currentkey]\n",
                "        del Config['Folders'][currentkey]\n",
                "        break \n",
                "pprint(Config)"
            ]
        },
        {
            "cell_type": "code",
            "execution_count": 21,
            "metadata": {},
            "outputs": [
                {
                    "ename": "Exception",
                    "evalue": "Folder name doesn't exist in the config file",
                    "output_type": "error",
                    "traceback": [
                        "\u001b[1;31m---------------------------------------------------------------------------\u001b[0m",
                        "\u001b[1;31mException\u001b[0m                                 Traceback (most recent call last)",
                        "\u001b[1;32m<ipython-input-21-8647eabadfb2>\u001b[0m in \u001b[0;36m<module>\u001b[1;34m\u001b[0m\n\u001b[1;32m----> 1\u001b[1;33m \u001b[0mload\u001b[0m\u001b[1;33m.\u001b[0m\u001b[0mRemoveDirectory\u001b[0m\u001b[1;33m(\u001b[0m\u001b[1;34m'batata'\u001b[0m\u001b[1;33m)\u001b[0m\u001b[1;33m\u001b[0m\u001b[1;33m\u001b[0m\u001b[0m\n\u001b[0m\u001b[0;32m      2\u001b[0m \u001b[0mload\u001b[0m\u001b[1;33m.\u001b[0m\u001b[0mHelp\u001b[0m\u001b[1;33m(\u001b[0m\u001b[1;33m)\u001b[0m\u001b[1;33m\u001b[0m\u001b[1;33m\u001b[0m\u001b[0m\n",
                        "\u001b[1;32ma:\\Andrew\\Desenvolvimento\\Study\\General_Python_Studies\\src\\utils\\tools.py\u001b[0m in \u001b[0;36mRemoveDirectory\u001b[1;34m(self, delfolder, dirgroup)\u001b[0m\n\u001b[0;32m    135\u001b[0m                 \u001b[0mprint\u001b[0m\u001b[1;33m(\u001b[0m\u001b[1;34m'here1'\u001b[0m\u001b[1;33m)\u001b[0m\u001b[1;33m\u001b[0m\u001b[1;33m\u001b[0m\u001b[0m\n\u001b[0;32m    136\u001b[0m                 \u001b[1;32mbreak\u001b[0m\u001b[1;33m\u001b[0m\u001b[1;33m\u001b[0m\u001b[0m\n\u001b[1;32m--> 137\u001b[1;33m             \u001b[1;32melse\u001b[0m\u001b[1;33m:\u001b[0m\u001b[1;33m\u001b[0m\u001b[1;33m\u001b[0m\u001b[0m\n\u001b[0m\u001b[0;32m    138\u001b[0m                 \u001b[1;32mraise\u001b[0m \u001b[0mException\u001b[0m\u001b[1;33m(\u001b[0m\u001b[1;34m\"Folder name doesn't exist in the config file\"\u001b[0m\u001b[1;33m)\u001b[0m\u001b[1;33m\u001b[0m\u001b[1;33m\u001b[0m\u001b[0m\n\u001b[0;32m    139\u001b[0m \u001b[1;33m\u001b[0m\u001b[0m\n",
                        "\u001b[1;31mException\u001b[0m: Folder name doesn't exist in the config file"
                    ]
                }
            ],
            "source": [
                "load.RemoveDirectory('batata')\n",
                "load.Help()"
            ]
        },
        {
            "cell_type": "code",
            "execution_count": null,
            "metadata": {},
            "outputs": [],
            "source": [
                "file1 = {\n",
                "        'File_name' : \"Arquivo545.json\",\n",
                "        'Path' : Test.Folder('reports')\n",
                "        }"
            ]
        },
        {
            "cell_type": "code",
            "execution_count": null,
            "metadata": {},
            "outputs": [],
            "source": [
                "file1  = {\n",
                "        'File_name' : \"Arquivo545.json\",\n",
                "        'Path' : \"A:\\\\Andrew\\\\Desenvolvimento\\\\Study\\\\General_Python_Studies\\\\reports\"\n",
                "        }"
            ]
        },
        {
            "cell_type": "code",
            "execution_count": null,
            "metadata": {},
            "outputs": [
                {
                    "name": "stdout",
                    "output_type": "stream",
                    "text": [
                        "File(Name: Arquivo545.json, Folder: Reports) loaded\n"
                    ]
                },
                {
                    "data": {
                        "text/html": [
                            "<div>\n",
                            "<style scoped>\n",
                            "    .dataframe tbody tr th:only-of-type {\n",
                            "        vertical-align: middle;\n",
                            "    }\n",
                            "\n",
                            "    .dataframe tbody tr th {\n",
                            "        vertical-align: top;\n",
                            "    }\n",
                            "\n",
                            "    .dataframe thead th {\n",
                            "        text-align: right;\n",
                            "    }\n",
                            "</style>\n",
                            "<table border=\"1\" class=\"dataframe\">\n",
                            "  <thead>\n",
                            "    <tr style=\"text-align: right;\">\n",
                            "      <th></th>\n",
                            "      <th>new york</th>\n",
                            "      <th>chicago</th>\n",
                            "      <th>boston</th>\n",
                            "    </tr>\n",
                            "  </thead>\n",
                            "  <tbody>\n",
                            "    <tr>\n",
                            "      <th>city</th>\n",
                            "      <td>New York</td>\n",
                            "      <td>Chicago</td>\n",
                            "      <td>Boston</td>\n",
                            "    </tr>\n",
                            "    <tr>\n",
                            "      <th>state</th>\n",
                            "      <td>NY</td>\n",
                            "      <td>IL</td>\n",
                            "      <td>MA</td>\n",
                            "    </tr>\n",
                            "    <tr>\n",
                            "      <th>population</th>\n",
                            "      <td>8175133</td>\n",
                            "      <td>2695598</td>\n",
                            "      <td>645966</td>\n",
                            "    </tr>\n",
                            "    <tr>\n",
                            "      <th>land area</th>\n",
                            "      <td>14.5</td>\n",
                            "      <td>14.5</td>\n",
                            "      <td>14.5</td>\n",
                            "    </tr>\n",
                            "  </tbody>\n",
                            "</table>\n",
                            "</div>"
                        ],
                        "text/plain": [
                            "            new york  chicago  boston\n",
                            "city        New York  Chicago  Boston\n",
                            "state             NY       IL      MA\n",
                            "population   8175133  2695598  645966\n",
                            "land area       14.5     14.5    14.5"
                        ]
                    },
                    "execution_count": 3,
                    "metadata": {},
                    "output_type": "execute_result"
                }
            ],
            "source": [
                "Test.Loadfrom(file1) \n",
                "Test.file"
            ]
        },
        {
            "cell_type": "code",
            "execution_count": null,
            "metadata": {},
            "outputs": [
                {
                    "data": {
                        "text/plain": [
                            "'A:\\\\Andrew\\\\Desenvolvimento\\\\Study\\\\General_Python_Studies\\\\..\\\\Models\\\\Developing'"
                        ]
                    },
                    "execution_count": 3,
                    "metadata": {},
                    "output_type": "execute_result"
                }
            ],
            "source": [
                "file1['Path']  "
            ]
        },
        {
            "cell_type": "code",
            "execution_count": null,
            "metadata": {},
            "outputs": [
                {
                    "data": {
                        "text/html": [
                            "<div>\n",
                            "<style scoped>\n",
                            "    .dataframe tbody tr th:only-of-type {\n",
                            "        vertical-align: middle;\n",
                            "    }\n",
                            "\n",
                            "    .dataframe tbody tr th {\n",
                            "        vertical-align: top;\n",
                            "    }\n",
                            "\n",
                            "    .dataframe thead th {\n",
                            "        text-align: right;\n",
                            "    }\n",
                            "</style>\n",
                            "<table border=\"1\" class=\"dataframe\">\n",
                            "  <thead>\n",
                            "    <tr style=\"text-align: right;\">\n",
                            "      <th></th>\n",
                            "      <th>Folders in this project</th>\n",
                            "    </tr>\n",
                            "  </thead>\n",
                            "  <tbody>\n",
                            "    <tr>\n",
                            "      <th>0</th>\n",
                            "      <td>DB Mongo</td>\n",
                            "    </tr>\n",
                            "    <tr>\n",
                            "      <th>1</th>\n",
                            "      <td>DB Mysql</td>\n",
                            "    </tr>\n",
                            "    <tr>\n",
                            "      <th>2</th>\n",
                            "      <td>DB Sqlite</td>\n",
                            "    </tr>\n",
                            "    <tr>\n",
                            "      <th>3</th>\n",
                            "      <td>Data Ongoing</td>\n",
                            "    </tr>\n",
                            "    <tr>\n",
                            "      <th>4</th>\n",
                            "      <td>Data Raw</td>\n",
                            "    </tr>\n",
                            "    <tr>\n",
                            "      <th>5</th>\n",
                            "      <td>Dataset</td>\n",
                            "    </tr>\n",
                            "    <tr>\n",
                            "      <th>6</th>\n",
                            "      <td>Docs</td>\n",
                            "    </tr>\n",
                            "    <tr>\n",
                            "      <th>7</th>\n",
                            "      <td>Env</td>\n",
                            "    </tr>\n",
                            "    <tr>\n",
                            "      <th>8</th>\n",
                            "      <td>Models</td>\n",
                            "    </tr>\n",
                            "    <tr>\n",
                            "      <th>9</th>\n",
                            "      <td>Models Dev</td>\n",
                            "    </tr>\n",
                            "    <tr>\n",
                            "      <th>10</th>\n",
                            "      <td>Models Prod</td>\n",
                            "    </tr>\n",
                            "    <tr>\n",
                            "      <th>11</th>\n",
                            "      <td>Reports</td>\n",
                            "    </tr>\n",
                            "    <tr>\n",
                            "      <th>12</th>\n",
                            "      <td>Reports Finals</td>\n",
                            "    </tr>\n",
                            "    <tr>\n",
                            "      <th>13</th>\n",
                            "      <td>Reports Prelim</td>\n",
                            "    </tr>\n",
                            "    <tr>\n",
                            "      <th>14</th>\n",
                            "      <td>Requirements</td>\n",
                            "    </tr>\n",
                            "  </tbody>\n",
                            "</table>\n",
                            "</div>"
                        ],
                        "text/plain": [
                            "   Folders in this project\n",
                            "0                 DB Mongo\n",
                            "1                 DB Mysql\n",
                            "2                DB Sqlite\n",
                            "3             Data Ongoing\n",
                            "4                 Data Raw\n",
                            "5                  Dataset\n",
                            "6                     Docs\n",
                            "7                      Env\n",
                            "8                   Models\n",
                            "9               Models Dev\n",
                            "10             Models Prod\n",
                            "11                 Reports\n",
                            "12          Reports Finals\n",
                            "13          Reports Prelim\n",
                            "14            Requirements"
                        ]
                    },
                    "metadata": {},
                    "output_type": "display_data"
                }
            ],
            "source": [
                "Test.Help()  "
            ]
        },
        {
            "cell_type": "code",
            "execution_count": null,
            "metadata": {},
            "outputs": [
                {
                    "name": "stdout",
                    "output_type": "stream",
                    "text": [
                        "{'Folders': {'DB Mongo': '..\\\\Databases\\\\Mongo',\n",
                        "             'DB Mysql': '..\\\\Databases\\\\MySQL',\n",
                        "             'DB Sqlite': '..\\\\Databases\\\\SQLite',\n",
                        "             'Data Ongoing': '..\\\\Data\\\\2) Ongoing',\n",
                        "             'Data Raw': '..\\\\Data\\\\1) Raw',\n",
                        "             'Dataset': '..\\\\Data\\\\3) Dataset',\n",
                        "             'Docs': '..\\\\Docs',\n",
                        "             'Env': '..\\\\Env',\n",
                        "             'Model Review': '..\\\\Models\\\\Review',\n",
                        "             'Models': '..\\\\Models',\n",
                        "             'Models Dev': '..\\\\Models\\\\Developing',\n",
                        "             'Models Prod': '..\\\\Models\\\\Production',\n",
                        "             'Reports': '..\\\\Reports',\n",
                        "             'Reports Finals': '..\\\\Reports\\\\Finals',\n",
                        "             'Reports Prelim': '..\\\\Reports\\\\Preliminary',\n",
                        "             'Requirements': '..\\\\Requirements'}}\n"
                    ]
                }
            ],
            "source": [
                "ho = {'Model Review':'..\\\\Models\\\\Review'}\n",
                "dicts['Folders'].update(ho)\n",
                "from pprint import pprint \n",
                "pprint(dicts )"
            ]
        },
        {
            "cell_type": "code",
            "execution_count": null,
            "metadata": {},
            "outputs": [],
            "source": [
                "a = {'Data Raw': 'folderpath'}"
            ]
        },
        {
            "cell_type": "code",
            "execution_count": 7,
            "metadata": {},
            "outputs": [
                {
                    "name": "stdout",
                    "output_type": "stream",
                    "text": [
                        "Not a match\n"
                    ]
                }
            ],
            "source": [
                "myList = ['\\\\', '/']\n",
                "if any(x in test for x in myList) == True and any(y in test2 for y in myList) == False:\n",
                "    print (\"Found a match\")\n",
                "else:\n",
                "    print (\"Not a match\")"
            ]
        },
        {
            "cell_type": "code",
            "execution_count": null,
            "metadata": {},
            "outputs": [],
            "source": [
                "import json\n",
                "\n",
                "with open('Config.json','r') as file:\n",
                "    # First we load existing data into a dict.\n",
                "    file_data = json.load(file)\n",
                "    # Join new_data with file_data inside emp_details\n",
                "    file.truncate(0)\n",
                "    #write the new content from the dictionary\n",
                "    file.fseek(0)# go to the beginning of the file\n",
                "    json.dumps(Config, file)"
            ]
        },
        {
            "cell_type": "code",
            "execution_count": null,
            "metadata": {},
            "outputs": [],
            "source": [
                "\n",
                "self.file.truncate(0)\n",
                "#write the new content from the dictionary\n",
                "self.file.fseek(0)# go to the beginning of the file\n",
                "json.dumps(self.content, self.file) # write the new content\n",
                "self.edit = False"
            ]
        },
        {
            "cell_type": "code",
            "execution_count": null,
            "metadata": {},
            "outputs": [],
            "source": [
                "import json"
            ]
        },
        {
            "cell_type": "code",
            "execution_count": null,
            "metadata": {},
            "outputs": [
                {
                    "name": "stdout",
                    "output_type": "stream",
                    "text": [
                        "{'Folders': {'DB Mongo': '..\\\\Databases\\\\Mongo',\n",
                        "             'DB Mysql': '..\\\\Databases\\\\MySQL',\n",
                        "             'DB Sqlite': '..\\\\Databases\\\\SQLite',\n",
                        "             'Data Ongoing': '..\\\\Data\\\\2) Ongoing',\n",
                        "             'Data Raw': '..\\\\Data\\\\1) Raw',\n",
                        "             'Dataset': '..\\\\Data\\\\3) Dataset',\n",
                        "             'Docs': '..\\\\Docs',\n",
                        "             'Env': '..\\\\Env',\n",
                        "             'Models': '..\\\\Models',\n",
                        "             'Models Dev': '..\\\\Models\\\\Developing',\n",
                        "             'Models Prod': '..\\\\Models\\\\Production',\n",
                        "             'Reports': '..\\\\Requirements2',\n",
                        "             'Reports Finals': '..\\\\Reports\\\\Finals',\n",
                        "             'Reports Prelim': '..\\\\Reports\\\\Preliminary',\n",
                        "             'Requirements': '..\\\\Requirements',\n",
                        "             'Requirements2': '..\\\\Requirements2'}}\n"
                    ]
                }
            ],
            "source": [
                "new_data = {\"Reports\"   : \"..\\\\Requirements2\"}\n",
                "\n",
                "from pprint import pprint\n",
                "with open('data.json','r+') as file:\n",
                "    file_data = json.load(file)\n",
                "    file_data[\"Folders\"].update(new_data)\n",
                "    file.truncate(0)  \n",
                "    file.seek(0)\n",
                "    json.dump(file_data, file, indent = 4, sort_keys = True)\n",
                "    \n",
                "with open ('data.json','r') as file:\n",
                "    file_data = json.load(file)\n",
                "    pprint(file_data)"
            ]
        },
        {
            "cell_type": "code",
            "execution_count": null,
            "metadata": {},
            "outputs": [
                {
                    "name": "stdout",
                    "output_type": "stream",
                    "text": [
                        "{'Folders': {'DB Mongo': '..\\\\Databases\\\\Mongo',\n",
                        "             'DB Mysql': '..\\\\Databases\\\\MySQL',\n",
                        "             'DB Sqlite': '..\\\\Databases\\\\SQLite',\n",
                        "             'Data Ongoing': '..\\\\Data\\\\2) Ongoing',\n",
                        "             'Data Raw': '..\\\\Data\\\\1) Raw',\n",
                        "             'Dataset': '..\\\\Data\\\\3) Dataset',\n",
                        "             'Docs': '..\\\\Docs',\n",
                        "             'Env': '..\\\\Env',\n",
                        "             'Models': '..\\\\Models',\n",
                        "             'Models Dev': '..\\\\Models\\\\Developing',\n",
                        "             'Models Prod': '..\\\\Models\\\\Production',\n",
                        "             'Reports Finals': '..\\\\Reports\\\\Finals',\n",
                        "             'Reports Prelim': '..\\\\Reports\\\\Preliminary',\n",
                        "             'Requirements': '..\\\\Requirements',\n",
                        "             'Requirements2': '..\\\\Requirements2'}}\n"
                    ]
                }
            ],
            "source": [
                "deldata = \"Reports\" \n",
                "from pprint import pprint\n",
                "with open('data.json','r+') as file:\n",
                "    file_data = json.load(file)\n",
                "    del file_data[\"Folders\"][deldata]\n",
                "    file.truncate(0) \n",
                "    file.seek(0)\n",
                "    json.dump(file_data, file, indent = 4, sort_keys = True)\n",
                "    \n",
                "with open ('data.json','r') as file:\n",
                "    file_data = json.load(file)\n",
                "    pprint(file_data)"
            ]
        },
        {
            "cell_type": "code",
            "execution_count": 5,
            "metadata": {},
            "outputs": [],
            "source": [
                "from src.utils.test import main"
            ]
        },
        {
            "cell_type": "code",
            "execution_count": 7,
            "metadata": {},
            "outputs": [
                {
                    "name": "stdout",
                    "output_type": "stream",
                    "text": [
                        "hello world\n"
                    ]
                }
            ],
            "source": [
                "main()"
            ]
        },
        {
            "cell_type": "code",
            "execution_count": 2,
            "metadata": {},
            "outputs": [
                {
                    "name": "stdout",
                    "output_type": "stream",
                    "text": [
                        "I like to wash clothes on tuesdays\n",
                        "I like to clean dishes never\n",
                        "\n"
                    ]
                }
            ],
            "source": [
                "wash_clothes = 'tuesdays'\n",
                "clean_dishes = 'never'\n",
                "mystring = f\"\"\"I like to wash clothes on {wash_clothes}\n",
                "I like to clean dishes {clean_dishes}\n",
                "\"\"\"\n",
                "\n",
                "print(mystring)"
            ]
        },
        {
            "cell_type": "code",
            "execution_count": 3,
            "metadata": {},
            "outputs": [
                {
                    "name": "stdout",
                    "output_type": "stream",
                    "text": [
                        "\n",
                        "            CREATE TABLE IF NOT EXISTS mytable,\n",
                        "            date DATE PRIMARY KEY,\n",
                        "            category TEXT,\n",
                        "            store TEXT,\n",
                        "            name TEXT,\n",
                        "            price REAL,\n",
                        "            link TEXT)\n"
                    ]
                }
            ],
            "source": [
                "table_name = 'mytable'\n",
                "mystring2 = f\"\"\"\n",
                "            CREATE TABLE IF NOT EXISTS {table_name},\n",
                "            date DATE PRIMARY KEY,\n",
                "            category TEXT,\n",
                "            store TEXT,\n",
                "            name TEXT,\n",
                "            price REAL,\n",
                "            link TEXT)\"\"\"\n",
                "print(mystring2)"
            ]
        },
        {
            "cell_type": "code",
            "execution_count": 6,
            "metadata": {},
            "outputs": [],
            "source": [
                "def clean_tbl_name(filename):\n",
                "    #rename csv, force lower case, no spaces, no dashes\n",
                "    clean_tbl_name = filename.lower()\n",
                "    \n",
                "    exclude_list = [(\" \", \"_\"), (\"-\", \"_\"), (\"/\", \"_\"), (\"\\\\\", \"_\"), (\"$\", \"\"), (\"%\", \"\"),(\"&\",\"\")]\n",
                "    for character in exclude_list:\n",
                "        clean_tbl_name = clean_tbl_name.replace(*character)\n",
                "\n",
                "    #output will be:  The quick red fox jumps over the quick dog\n",
                "    tbl_name = '{0}'.format(clean_tbl_name.split('.')[0])\n",
                "\n",
                "    return tbl_name"
            ]
        },
        {
            "cell_type": "code",
            "execution_count": 7,
            "metadata": {},
            "outputs": [
                {
                    "name": "stdout",
                    "output_type": "stream",
                    "text": [
                        "the_quick_brown_fo_x_ju_mps_over_the_lazy_dog\n"
                    ]
                }
            ],
            "source": [
                "s = \"The quick &brown fo-x ju/mps o$ver% the laz&y dog\"\n",
                "\n",
                "final = clean_tbl_name(s)\n",
                "print(final) "
            ]
        }
    ],
    "metadata": {
        "interpreter": {
            "hash": "76a88e614f8d7f6c475b17a416d7d34c86715705171ff2ed9e1d8a5278bc9fb7"
        },
        "kernelspec": {
            "display_name": "Python 3.8.5 64-bit ('Data_Science': conda)",
            "name": "python3"
        },
        "language_info": {
            "codemirror_mode": {
                "name": "ipython",
                "version": 3
            },
            "file_extension": ".py",
            "mimetype": "text/x-python",
            "name": "python",
            "nbconvert_exporter": "python",
            "pygments_lexer": "ipython3",
            "version": "3.8.5"
        },
        "orig_nbformat": 4
    },
    "nbformat": 4,
    "nbformat_minor": 2
}
